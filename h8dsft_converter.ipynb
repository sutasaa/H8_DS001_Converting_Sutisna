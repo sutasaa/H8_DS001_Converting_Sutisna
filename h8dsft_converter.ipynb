{
 "cells": [
  {
   "cell_type": "code",
   "execution_count": 2,
   "id": "acb26200",
   "metadata": {},
   "outputs": [
    {
     "name": "stdout",
     "output_type": "stream",
     "text": [
      "Suhu Awal = 47 Celcius\n",
      "47 Celcius = 116.6 Fahrenheit\n",
      "116.6 Fahrenheit = 320.15 Kelvin\n"
     ]
    }
   ],
   "source": [
    "def celcius_to_kelvin(celcius):\n",
    "    \"Mengubah suhu dari Celcius ke Kelvin\"\n",
    "    return round(273.15 + celcius, 2)\n",
    "\n",
    "def kelvin_to_celcius(kelvin):\n",
    "    \"Mengubah suhu dari Kelvin ke Celcius\"\n",
    "    return round(kelvin - 273.15, 2)\n",
    "\n",
    "def celcius_to_fahrenheit(celcius):\n",
    "    \"Mengubah suhu dari Celcius ke Fahrenheit\"\n",
    "    return round((9 / 5 * celcius) + 32, 2)\n",
    "\n",
    "def fahrenheit_to_celcius(fahrenheit):\n",
    "    \"Mengubah suhu dari Fahrenheit ke Celcius\"\n",
    "    return round((fahrenheit - 32) * 5 / 9, 2)\n",
    "\n",
    "def fahrenheit_to_kelvin(fahrenheit):\n",
    "    \"Mengubah suhu dari Fahrenheit ke Kelvin\"\n",
    "    return round((5 / 9 * (fahrenheit - 32)) + 273.15, 2)\n",
    "\n",
    "def kelvin_to_fahrenheit(kelvin):\n",
    "    \"Mengubah suhu dari Kelvin ke Fahrenheit\"\n",
    "    return round((9 / 5 * (kelvin - 273.15)) + 32, 2)\n",
    "\n",
    "celcius = 47\n",
    "print(f\"Suhu Awal = {celcius} Celcius\")\n",
    "\n",
    "print(f\"{celcius} Celcius =\", celcius_to_fahrenheit(celcius), \"Fahrenheit\")\n",
    "\n",
    "fahrenheit = celcius_to_fahrenheit(celcius)\n",
    "print(f\"{fahrenheit} Fahrenheit =\", fahrenheit_to_kelvin(fahrenheit), \"Kelvin\")\n"
   ]
  },
  {
   "cell_type": "code",
   "execution_count": null,
   "id": "80cfa909",
   "metadata": {},
   "outputs": [],
   "source": []
  }
 ],
 "metadata": {
  "kernelspec": {
   "display_name": "Python 3",
   "language": "python",
   "name": "python3"
  },
  "language_info": {
   "codemirror_mode": {
    "name": "ipython",
    "version": 3
   },
   "file_extension": ".py",
   "mimetype": "text/x-python",
   "name": "python",
   "nbconvert_exporter": "python",
   "pygments_lexer": "ipython3",
   "version": "3.8.8"
  }
 },
 "nbformat": 4,
 "nbformat_minor": 5
}
